{
  "nbformat": 4,
  "nbformat_minor": 0,
  "metadata": {
    "colab": {
      "provenance": [],
      "authorship_tag": "ABX9TyPdty2pgXW9RBR59aJW5lC0",
      "include_colab_link": true
    },
    "kernelspec": {
      "name": "python3",
      "display_name": "Python 3"
    },
    "language_info": {
      "name": "python"
    }
  },
  "cells": [
    {
      "cell_type": "markdown",
      "metadata": {
        "id": "view-in-github",
        "colab_type": "text"
      },
      "source": [
        "<a href=\"https://colab.research.google.com/github/sriharsha8253/harsha/blob/main/week_4%2C5.ipynb\" target=\"_parent\"><img src=\"https://colab.research.google.com/assets/colab-badge.svg\" alt=\"Open In Colab\"/></a>"
      ]
    },
    {
      "cell_type": "code",
      "execution_count": null,
      "metadata": {
        "colab": {
          "base_uri": "https://localhost:8080/"
        },
        "id": "ItCR4xxm8H7W",
        "outputId": "b856d21f-28d5-4fbf-cb19-3a8845ce2946"
      },
      "outputs": [
        {
          "output_type": "stream",
          "name": "stdout",
          "text": [
            "[[11 22]\n",
            " [13 24]]\n"
          ]
        }
      ],
      "source": [
        "9\n",
        "import numpy as np\n",
        "def add_matrix_vector(x,y):\n",
        " assert len(x.shape)==2\n",
        " assert len(y.shape)==1\n",
        " assert x.shape[1] == y.shape[0]\n",
        " for i in range(x.shape[0]):\n",
        "   for j in range(x.shape[1]):\n",
        "     x[i,j]+=y[j]\n",
        " return x\n",
        "x=np.array([[1,2],[3,4]])\n",
        "y=np.array([10,20])\n",
        "z=add_matrix_vector(x,y)\n",
        "print(z)\n"
      ]
    },
    {
      "cell_type": "code",
      "source": [
        "10\n",
        "#Tensor Reshaping.\n",
        "import numpy as np\n",
        "x = np.array([[1,2,3,4],[5,6,7,8]])\n",
        "print(\"Before Reshaping\")\n",
        "print(x)\n",
        "print(\"Shape of x tensor is\",x.shape)\n",
        "x = x.reshape(4,2)\n",
        "print(\"\\n After Reshaping x to 4 rows 2 columns\")\n",
        "print(x)\n",
        "print(\"Shape of x tensor is\",x.shape)\n",
        "x = x.reshape(8,1)\n",
        "print(\"\\n After Reshaping x to 8 rows and 1 column\" )\n",
        "print(x)\n",
        "print(\"Shape of x tensor is\",x.shape)\n"
      ],
      "metadata": {
        "colab": {
          "base_uri": "https://localhost:8080/"
        },
        "id": "Ba8_hQ3e8aPQ",
        "outputId": "3ebdd9b9-d00e-4a6a-f44a-cac89ed83857"
      },
      "execution_count": null,
      "outputs": [
        {
          "output_type": "stream",
          "name": "stdout",
          "text": [
            "Before Reshaping\n",
            "[[1 2 3 4]\n",
            " [5 6 7 8]]\n",
            "Shape of x tensor is (2, 4)\n",
            "\n",
            " After Reshaping x to 4 rows 2 columns\n",
            "[[1 2]\n",
            " [3 4]\n",
            " [5 6]\n",
            " [7 8]]\n",
            "Shape of x tensor is (4, 2)\n",
            "\n",
            " After Reshaping x to 8 rows and 1 column\n",
            "[[1]\n",
            " [2]\n",
            " [3]\n",
            " [4]\n",
            " [5]\n",
            " [6]\n",
            " [7]\n",
            " [8]]\n",
            "Shape of x tensor is (8, 1)\n"
          ]
        }
      ]
    },
    {
      "cell_type": "code",
      "source": [
        "11\n",
        "def naive_vector_dot(x,y):\n",
        " assert len(x.shape)==1\n",
        " assert len(y.shape)==1\n",
        " assert x.shape[0]==y.shape[0]\n",
        " z=0.\n",
        " for i in range(x.shape[0]):\n",
        "  z+=x[i]*y[i]\n",
        " return z\n",
        "x= np.array([1,2,3,4])\n",
        "y= np.array([10,20,30,40])\n",
        "result= naive_vector_dot( x , y)\n",
        "print(result)"
      ],
      "metadata": {
        "colab": {
          "base_uri": "https://localhost:8080/"
        },
        "id": "Q4EnurGJ8Z7N",
        "outputId": "a5b5be6f-2517-4787-d717-76d7d327369b"
      },
      "execution_count": null,
      "outputs": [
        {
          "output_type": "stream",
          "name": "stdout",
          "text": [
            "300.0\n"
          ]
        }
      ]
    },
    {
      "cell_type": "code",
      "source": [
        "12\n",
        "def naive_matrix_vector_dot(x, y) :\n",
        " assert len(x.shape) == 2\n",
        " assert len(y.shape) == 1\n",
        " assert x.shape[1] == y.shape[0]\n",
        " z = np.zeros(x.shape[0])\n",
        " for i in range(x.shape[0]) :\n",
        "   for j in range(x.shape[1]) :\n",
        "     z[i] += x[i, j] * y[j]\n",
        " return z\n",
        "x= np.array([[1,2],[3,4]])\n",
        "y= np.array([10,20])\n",
        "result= naive_matrix_vector_dot(x,y)\n",
        "print(result)\n"
      ],
      "metadata": {
        "colab": {
          "base_uri": "https://localhost:8080/"
        },
        "id": "_AGDxwZK8Z3m",
        "outputId": "edb9c48c-8a9d-4611-8fe6-c40a3687922b"
      },
      "execution_count": null,
      "outputs": [
        {
          "output_type": "stream",
          "name": "stdout",
          "text": [
            "[ 50. 110.]\n"
          ]
        }
      ]
    },
    {
      "cell_type": "code",
      "source": [
        "13\n",
        "import numpy as np\n",
        "def naive_matrix_dot(x,y):\n",
        " assert len(x.shape)==2\n",
        " assert len(y.shape)==2\n",
        " assert x.shape[1]==y.shape[0]\n",
        " z=np.zeros((x.shape[0],y.shape[1]))\n",
        " for i in range(x.shape[0]):\n",
        "   for j in range(y.shape[1]):\n",
        "     row_x=x[i,:]\n",
        "     col_y=y[:,j]\n",
        "     z[i,j]=naive_vector_dot(row_x,col_y)\n",
        " return z\n",
        "def naive_vector_dot(x,y):\n",
        " assert len(x.shape)==1\n",
        " assert len(y.shape)==1\n",
        " assert x.shape[0]==y.shape[0]\n",
        " z=0.\n",
        " for i in range(x.shape[0]):\n",
        "    z+=x[i]*y[i]\n",
        " return z\n",
        "x= np.array([[1,2],[3,4]])\n",
        "y= np.array([[10,20],[30,40]])\n",
        "result= naive_matrix_dot(x,y)\n",
        "print(result)"
      ],
      "metadata": {
        "colab": {
          "base_uri": "https://localhost:8080/"
        },
        "id": "57dOsV128ZrX",
        "outputId": "ac637c42-011f-402d-f191-5977fe6d2096"
      },
      "execution_count": null,
      "outputs": [
        {
          "output_type": "stream",
          "name": "stdout",
          "text": [
            "[[ 70. 100.]\n",
            " [150. 220.]]\n"
          ]
        }
      ]
    },
    {
      "cell_type": "code",
      "source": [
        "14\n",
        "#Tensors Reshaping.\n",
        "import numpy as np\n",
        "#Reshaping 1D Tensor\n",
        "x = np.array([1,2,3,4])\n",
        "print(\"Before Reshaping 1D Tensor\")\n",
        "print(x)\n",
        "print(\"Shape of 1D tensor is\",x.shape)\n",
        "x = x.reshape(4,1)\n",
        "print(\"After Reshaping 1D tensor to 4 rows 1 column\")\n",
        "print(x)\n",
        "#Reshaping 2D Tensor\n",
        "x = np.array([[1,2],[3,4]])\n",
        "print(\"\\n Before Reshaping 2D Tensor\")\n",
        "print(x)\n",
        "print(\"Shape of 2D tensor is\",x.shape)\n",
        "x = x.reshape(4,1)\n",
        "print(\"After Reshaping 2D tensor to 4 rows 1 column\")\n",
        "print(x)\n",
        "#Reshaping 3DTensor\n",
        "x = np.array([[[1,2],[3,4]],[[5,6],[7,8]]])\n",
        "print(\"\\nBefore Reshaping 3D Tensor\")\n",
        "print(x)\n",
        "print(\"Shape of 3D tensor is\",x.shape)\n",
        "x = x.reshape(8,1)\n",
        "print(\"After Reshaping 3D tensor to 8rows 1 column\")\n",
        "print(x)\n"
      ],
      "metadata": {
        "colab": {
          "base_uri": "https://localhost:8080/"
        },
        "id": "Q668Ax6D8ZZU",
        "outputId": "656c9b5f-21f4-42d1-c516-f224837924c1"
      },
      "execution_count": null,
      "outputs": [
        {
          "output_type": "stream",
          "name": "stdout",
          "text": [
            "Before Reshaping 1D Tensor\n",
            "[1 2 3 4]\n",
            "Shape of 1D tensor is (4,)\n",
            "After Reshaping 1D tensor to 4 rows 1 column\n",
            "[[1]\n",
            " [2]\n",
            " [3]\n",
            " [4]]\n",
            "\n",
            " Before Reshaping 2D Tensor\n",
            "[[1 2]\n",
            " [3 4]]\n",
            "Shape of 2D tensor is (2, 2)\n",
            "After Reshaping 2D tensor to 4 rows 1 column\n",
            "[[1]\n",
            " [2]\n",
            " [3]\n",
            " [4]]\n",
            "\n",
            "Before Reshaping 3D Tensor\n",
            "[[[1 2]\n",
            "  [3 4]]\n",
            "\n",
            " [[5 6]\n",
            "  [7 8]]]\n",
            "Shape of 3D tensor is (2, 2, 2)\n",
            "After Reshaping 3D tensor to 8rows 1 column\n",
            "[[1]\n",
            " [2]\n",
            " [3]\n",
            " [4]\n",
            " [5]\n",
            " [6]\n",
            " [7]\n",
            " [8]]\n"
          ]
        }
      ]
    },
    {
      "cell_type": "code",
      "source": [
        "15\n",
        "import numpy as np\n",
        "x = np.array([[1,2,3,4],[5,6,7,8]])\n",
        "print(\"Before Transposition\")\n",
        "print(x)\n",
        "print(\"Shape of x tensor is\",x.shape)\n",
        "x = np.transpose(x)\n",
        "print(\"\\n After Transposition\")\n",
        "print(x)\n",
        "print(\"Shape of x tensor is\",x.shape)"
      ],
      "metadata": {
        "colab": {
          "base_uri": "https://localhost:8080/"
        },
        "id": "oJHRfv9HeYlj",
        "outputId": "6db76d0b-b524-4cde-c1cb-b5fc13dab0fd"
      },
      "execution_count": 1,
      "outputs": [
        {
          "output_type": "stream",
          "name": "stdout",
          "text": [
            "Before Transposition\n",
            "[[1 2 3 4]\n",
            " [5 6 7 8]]\n",
            "Shape of x tensor is (2, 4)\n",
            "\n",
            " After Transposition\n",
            "[[1 5]\n",
            " [2 6]\n",
            " [3 7]\n",
            " [4 8]]\n",
            "Shape of x tensor is (4, 2)\n"
          ]
        }
      ]
    }
  ]
}