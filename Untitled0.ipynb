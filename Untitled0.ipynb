{
  "nbformat": 4,
  "nbformat_minor": 0,
  "metadata": {
    "colab": {
      "provenance": [],
      "authorship_tag": "ABX9TyNgEwTR9sNFukscNTqkKG5T",
      "include_colab_link": true
    },
    "kernelspec": {
      "name": "python3",
      "display_name": "Python 3"
    },
    "language_info": {
      "name": "python"
    }
  },
  "cells": [
    {
      "cell_type": "markdown",
      "metadata": {
        "id": "view-in-github",
        "colab_type": "text"
      },
      "source": [
        "<a href=\"https://colab.research.google.com/github/sriharsha8253/harsha/blob/main/Untitled0.ipynb\" target=\"_parent\"><img src=\"https://colab.research.google.com/assets/colab-badge.svg\" alt=\"Open In Colab\"/></a>"
      ]
    },
    {
      "cell_type": "code",
      "source": [
        "#1a. scalar or 0D tensor\n",
        "import numpy as np\n",
        "x=np.array(10)\n",
        "print(x)\n",
        "print(\"Dimension of x is\",x.ndim)\n",
        "print(\"Shape of x is\",x.shape)\n",
        "print(\"Data type of x is \",x.dtype)"
      ],
      "metadata": {
        "colab": {
          "base_uri": "https://localhost:8080/"
        },
        "id": "0dGj3lhB5eBz",
        "outputId": "333bd892-0b44-41f6-d59b-d5b0c479a9d0"
      },
      "execution_count": 1,
      "outputs": [
        {
          "output_type": "stream",
          "name": "stdout",
          "text": [
            "10\n",
            "Dimension of x is 0\n",
            "Shape of x is ()\n",
            "Data type of x is  int64\n"
          ]
        }
      ]
    },
    {
      "cell_type": "code",
      "source": [
        "#1b.Vector or 1D tensor\n",
        "import numpy as np\n",
        "x=np.array([1,2,3,4])\n",
        "print(x)\n",
        "print(\"Dimension of x is\",x.ndim)\n",
        "print(\"Shape of x is\",x.shape)\n",
        "print(\"Data type of x is \",x.dtype)"
      ],
      "metadata": {
        "colab": {
          "base_uri": "https://localhost:8080/"
        },
        "id": "-QKgvrVL5evl",
        "outputId": "cd6c1a6f-572f-4041-e31d-57871bec6da9"
      },
      "execution_count": 2,
      "outputs": [
        {
          "output_type": "stream",
          "name": "stdout",
          "text": [
            "[1 2 3 4]\n",
            "Dimension of x is 1\n",
            "Shape of x is (4,)\n",
            "Data type of x is  int64\n"
          ]
        }
      ]
    },
    {
      "cell_type": "code",
      "source": [
        "#2a.Matrix or 2D tensor\n",
        "import numpy as np\n",
        "x=np.array([[1,2,3,4],[5,6,7,8]])\n",
        "print(x)\n",
        "print(\"Dimension of x is\",x.ndim)\n",
        "print(\"Shape of x is\",x.shape)\n",
        "print(\"Data type of x is \",x.dtype)\n"
      ],
      "metadata": {
        "colab": {
          "base_uri": "https://localhost:8080/"
        },
        "id": "v4pEIk9M5ffp",
        "outputId": "20a34a7a-7b5c-4daf-914f-1f54ffa410a3"
      },
      "execution_count": 3,
      "outputs": [
        {
          "output_type": "stream",
          "name": "stdout",
          "text": [
            "[[1 2 3 4]\n",
            " [5 6 7 8]]\n",
            "Dimension of x is 2\n",
            "Shape of x is (2, 4)\n",
            "Data type of x is  int64\n"
          ]
        }
      ]
    },
    {
      "cell_type": "code",
      "execution_count": null,
      "metadata": {
        "colab": {
          "base_uri": "https://localhost:8080/"
        },
        "id": "04Ji0pw1i5UN",
        "outputId": "43d9e584-c79d-459f-fec1-97cc5e6a2d90"
      },
      "outputs": [
        {
          "output_type": "stream",
          "name": "stdout",
          "text": [
            "[[[1 2 3 4]\n",
            "  [5 6 7 8]]\n",
            "\n",
            " [[1 1 1 1]\n",
            "  [2 2 2 2]]]\n",
            "Dimension of x is 3\n",
            "Shape of x is (2, 2, 4)\n",
            "Data type of x is  int64\n"
          ]
        }
      ],
      "source": [
        "2b\n",
        "import numpy as np\n",
        "x=np.array([[[1,2,3,4],[5,6,7,8]],[[1,1,1,1],[2,2,2,2]]])\n",
        "print(x)\n",
        "print(\"Dimension of x is\",x.ndim)\n",
        "print(\"Shape of x is\",x.shape)\n",
        "print(\"Data type of x is \",x.dtype)"
      ]
    },
    {
      "cell_type": "code",
      "source": [
        "3\n",
        "#loading mnist dataset\n",
        "from tensorflow.keras.datasets import mnist\n",
        "(train_images, train_labels), (test_images, test_labels) = mnist.load_data()\n",
        "print(\"MNIST DataSet\")\n",
        "print(\"**************\")\n",
        "print(\"Trained images dimension is\",train_images.ndim)\n",
        "print(\"Trained images shape is\",train_images.shape)\n",
        "print(\"Tained images datatype is\",test_images.dtype)\n",
        "print(\"Train labels dimension is\",train_labels.ndim)\n",
        "print(\"Train labels shape is\",train_labels.shape)\n",
        "print()\n",
        "print(\"Test images dimension is \",test_images.ndim)\n",
        "print(\"Test images shape is \",test_images.shape)\n",
        "print(\"Test labels dimension is\",test_labels.ndim)\n",
        "print(\"Test labels shape is\",test_labels.shape)\n",
        "print()"
      ],
      "metadata": {
        "colab": {
          "base_uri": "https://localhost:8080/"
        },
        "id": "etSzD9ZgkTYw",
        "outputId": "65002d21-6560-4215-861b-63b71eacf253"
      },
      "execution_count": null,
      "outputs": [
        {
          "output_type": "stream",
          "name": "stdout",
          "text": [
            "Downloading data from https://storage.googleapis.com/tensorflow/tf-keras-datasets/mnist.npz\n",
            "\u001b[1m11490434/11490434\u001b[0m \u001b[32m━━━━━━━━━━━━━━━━━━━━\u001b[0m\u001b[37m\u001b[0m \u001b[1m0s\u001b[0m 0us/step\n",
            "MNIST DataSet\n",
            "**************\n",
            "Trained images dimension is 3\n",
            "Trained images shape is (60000, 28, 28)\n",
            "Tained images datatype is uint8\n",
            "Train labels dimension is 1\n",
            "Train labels shape is (60000,)\n",
            "\n",
            "Test images dimension is  3\n",
            "Test images shape is  (10000, 28, 28)\n",
            "Test labels dimension is 1\n",
            "Test labels shape is (10000,)\n",
            "\n"
          ]
        }
      ]
    },
    {
      "cell_type": "code",
      "source": [
        "3\n",
        "#manipulating tensors on mnist dataset or tensor slicing operations\n",
        "#To select digits #10 to #100 (#100 isn’t included)\n",
        "slice1 = train_images[10:100]\n",
        "print(slice1.shape)\n",
        "'''Above slicing is equivalent to which specifies a start index and stop index for the\n",
        "slice along each tensor axis. Note that : is equivalent to selecting the\n",
        "entire axis'''\n",
        "slice1 = train_images[10:100,:,:]\n",
        "print(slice1.shape)\n",
        "#This statement also equivalent to the above examples\n",
        "slice1 = train_images[10:100,0:28,0:28]\n",
        "print(slice1.shape)\n",
        "#To select 14 X 14 pixels in the bottom-right corner of all images\n",
        "slice1 = train_images[:,:14,:14]\n",
        "print(slice1.shape)\n",
        "#To crop the images to patches of 14 X 14 pixels centered in the middle\n",
        "slice1 = train_images[:,7:-7,7:-7]\n",
        "print(slice1.shape)"
      ],
      "metadata": {
        "colab": {
          "base_uri": "https://localhost:8080/"
        },
        "id": "uqz39t9Ckg_h",
        "outputId": "1cf6e63b-36cb-4b93-a55f-75342b66029b"
      },
      "execution_count": null,
      "outputs": [
        {
          "output_type": "stream",
          "name": "stdout",
          "text": [
            "(90, 28, 28)\n",
            "(90, 28, 28)\n",
            "(90, 28, 28)\n",
            "(60000, 14, 14)\n",
            "(60000, 14, 14)\n"
          ]
        }
      ]
    },
    {
      "cell_type": "code",
      "source": [
        "4\n",
        "# MNIST (Modified National Institute of Standards and Technology) database\n",
        "# MNIST dataset contains total 70,000 images of handwritten digits.\n",
        "# Training dataset: 60,000 images\n",
        "# Test dataset: 10,000 images\n",
        "from tensorflow.keras.datasets import mnist\n",
        "import matplotlib.pyplot as plt\n",
        "(train_images, train_labels), (test_images, test_labels) = mnist.load_data()\n",
        "print(\"trained images shape is\",train_images.shape)\n",
        "print(\"trained labels shape is\",train_labels.shape)\n",
        "print(\"test images shape is\",test_images.shape)\n",
        "print(\"test labels shape is\",test_labels.shape)\n",
        "print(\"Train labels are\",train_labels)\n",
        "print(\"Length of train labels is\",len(train_labels))\n",
        "print(\"Test labels are\",test_labels)\n",
        "print(\"Length of test labels is\",len(test_labels))\n",
        "print()\n",
        "print(\"Displaying 0th index label name is\",train_labels[0])\n",
        "print(\"Displaying 0th index of train images \\n\",train_images[0])\n",
        "plt.imshow(train_images[0])\n",
        "#The network architecture\n",
        "from tensorflow import keras\n",
        "from tensorflow.keras import layers\n",
        "model = keras.Sequential([\n",
        " layers.Dense(512, activation=\"relu\"),\n",
        " layers.Dense(10, activation=\"softmax\")\n",
        "])\n",
        "# The compilation step\n",
        "model.compile(optimizer=\"rmsprop\",loss=\"sparse_categorical_crossentropy\",metrics=[\"accuracy\"])\n",
        "# Preparing the image data\n",
        "train_images = train_images.reshape((60000, 28 * 28))\n",
        "train_images = train_images.astype(\"float32\") / 255\n",
        "test_images = test_images.reshape((10000, 28 * 28))\n",
        "test_images = test_images.astype(\"float32\") / 255\n",
        "#Fitting the model\n",
        "model.fit(train_images, train_labels, epochs=5, batch_size=128)\n",
        "#Using the model to make predictions\n",
        "predictions = model.predict(test_images)\n",
        "print(\"Probability distribution for a multiclass classification \\n\")\n",
        "print(predictions[0])\n",
        "#Returns maximum probability index\n",
        "predictions[0].argmax()\n",
        "#We can check that the test label agrees:\n",
        "test_labels[0]\n",
        "#Evaluating the model on new data\n",
        "test_loss, test_acc = model.evaluate(test_images, test_labels)\n",
        "print(f\"test_acc: {test_acc}\")\n",
        "print(f\"test_loss: {test_loss}\")\n"
      ],
      "metadata": {
        "colab": {
          "base_uri": "https://localhost:8080/",
          "height": 1000
        },
        "id": "6Qb4BJ11kpoI",
        "outputId": "fd9b1233-c1d3-442e-b2bb-3c73dd9c8fa0"
      },
      "execution_count": null,
      "outputs": [
        {
          "output_type": "stream",
          "name": "stdout",
          "text": [
            "trained images shape is (60000, 28, 28)\n",
            "trained labels shape is (60000,)\n",
            "test images shape is (10000, 28, 28)\n",
            "test labels shape is (10000,)\n",
            "Train labels are [5 0 4 ... 5 6 8]\n",
            "Length of train labels is 60000\n",
            "Test labels are [7 2 1 ... 4 5 6]\n",
            "Length of test labels is 10000\n",
            "\n",
            "Displaying 0th index label name is 5\n",
            "Displaying 0th index of train images \n",
            " [[  0   0   0   0   0   0   0   0   0   0   0   0   0   0   0   0   0   0\n",
            "    0   0   0   0   0   0   0   0   0   0]\n",
            " [  0   0   0   0   0   0   0   0   0   0   0   0   0   0   0   0   0   0\n",
            "    0   0   0   0   0   0   0   0   0   0]\n",
            " [  0   0   0   0   0   0   0   0   0   0   0   0   0   0   0   0   0   0\n",
            "    0   0   0   0   0   0   0   0   0   0]\n",
            " [  0   0   0   0   0   0   0   0   0   0   0   0   0   0   0   0   0   0\n",
            "    0   0   0   0   0   0   0   0   0   0]\n",
            " [  0   0   0   0   0   0   0   0   0   0   0   0   0   0   0   0   0   0\n",
            "    0   0   0   0   0   0   0   0   0   0]\n",
            " [  0   0   0   0   0   0   0   0   0   0   0   0   3  18  18  18 126 136\n",
            "  175  26 166 255 247 127   0   0   0   0]\n",
            " [  0   0   0   0   0   0   0   0  30  36  94 154 170 253 253 253 253 253\n",
            "  225 172 253 242 195  64   0   0   0   0]\n",
            " [  0   0   0   0   0   0   0  49 238 253 253 253 253 253 253 253 253 251\n",
            "   93  82  82  56  39   0   0   0   0   0]\n",
            " [  0   0   0   0   0   0   0  18 219 253 253 253 253 253 198 182 247 241\n",
            "    0   0   0   0   0   0   0   0   0   0]\n",
            " [  0   0   0   0   0   0   0   0  80 156 107 253 253 205  11   0  43 154\n",
            "    0   0   0   0   0   0   0   0   0   0]\n",
            " [  0   0   0   0   0   0   0   0   0  14   1 154 253  90   0   0   0   0\n",
            "    0   0   0   0   0   0   0   0   0   0]\n",
            " [  0   0   0   0   0   0   0   0   0   0   0 139 253 190   2   0   0   0\n",
            "    0   0   0   0   0   0   0   0   0   0]\n",
            " [  0   0   0   0   0   0   0   0   0   0   0  11 190 253  70   0   0   0\n",
            "    0   0   0   0   0   0   0   0   0   0]\n",
            " [  0   0   0   0   0   0   0   0   0   0   0   0  35 241 225 160 108   1\n",
            "    0   0   0   0   0   0   0   0   0   0]\n",
            " [  0   0   0   0   0   0   0   0   0   0   0   0   0  81 240 253 253 119\n",
            "   25   0   0   0   0   0   0   0   0   0]\n",
            " [  0   0   0   0   0   0   0   0   0   0   0   0   0   0  45 186 253 253\n",
            "  150  27   0   0   0   0   0   0   0   0]\n",
            " [  0   0   0   0   0   0   0   0   0   0   0   0   0   0   0  16  93 252\n",
            "  253 187   0   0   0   0   0   0   0   0]\n",
            " [  0   0   0   0   0   0   0   0   0   0   0   0   0   0   0   0   0 249\n",
            "  253 249  64   0   0   0   0   0   0   0]\n",
            " [  0   0   0   0   0   0   0   0   0   0   0   0   0   0  46 130 183 253\n",
            "  253 207   2   0   0   0   0   0   0   0]\n",
            " [  0   0   0   0   0   0   0   0   0   0   0   0  39 148 229 253 253 253\n",
            "  250 182   0   0   0   0   0   0   0   0]\n",
            " [  0   0   0   0   0   0   0   0   0   0  24 114 221 253 253 253 253 201\n",
            "   78   0   0   0   0   0   0   0   0   0]\n",
            " [  0   0   0   0   0   0   0   0  23  66 213 253 253 253 253 198  81   2\n",
            "    0   0   0   0   0   0   0   0   0   0]\n",
            " [  0   0   0   0   0   0  18 171 219 253 253 253 253 195  80   9   0   0\n",
            "    0   0   0   0   0   0   0   0   0   0]\n",
            " [  0   0   0   0  55 172 226 253 253 253 253 244 133  11   0   0   0   0\n",
            "    0   0   0   0   0   0   0   0   0   0]\n",
            " [  0   0   0   0 136 253 253 253 212 135 132  16   0   0   0   0   0   0\n",
            "    0   0   0   0   0   0   0   0   0   0]\n",
            " [  0   0   0   0   0   0   0   0   0   0   0   0   0   0   0   0   0   0\n",
            "    0   0   0   0   0   0   0   0   0   0]\n",
            " [  0   0   0   0   0   0   0   0   0   0   0   0   0   0   0   0   0   0\n",
            "    0   0   0   0   0   0   0   0   0   0]\n",
            " [  0   0   0   0   0   0   0   0   0   0   0   0   0   0   0   0   0   0\n",
            "    0   0   0   0   0   0   0   0   0   0]]\n",
            "Epoch 1/5\n",
            "\u001b[1m469/469\u001b[0m \u001b[32m━━━━━━━━━━━━━━━━━━━━\u001b[0m\u001b[37m\u001b[0m \u001b[1m5s\u001b[0m 9ms/step - accuracy: 0.8766 - loss: 0.4369\n",
            "Epoch 2/5\n",
            "\u001b[1m469/469\u001b[0m \u001b[32m━━━━━━━━━━━━━━━━━━━━\u001b[0m\u001b[37m\u001b[0m \u001b[1m4s\u001b[0m 7ms/step - accuracy: 0.9666 - loss: 0.1141\n",
            "Epoch 3/5\n",
            "\u001b[1m469/469\u001b[0m \u001b[32m━━━━━━━━━━━━━━━━━━━━\u001b[0m\u001b[37m\u001b[0m \u001b[1m3s\u001b[0m 7ms/step - accuracy: 0.9790 - loss: 0.0712\n",
            "Epoch 4/5\n",
            "\u001b[1m469/469\u001b[0m \u001b[32m━━━━━━━━━━━━━━━━━━━━\u001b[0m\u001b[37m\u001b[0m \u001b[1m6s\u001b[0m 10ms/step - accuracy: 0.9855 - loss: 0.0491\n",
            "Epoch 5/5\n",
            "\u001b[1m469/469\u001b[0m \u001b[32m━━━━━━━━━━━━━━━━━━━━\u001b[0m\u001b[37m\u001b[0m \u001b[1m3s\u001b[0m 7ms/step - accuracy: 0.9889 - loss: 0.0383\n",
            "\u001b[1m313/313\u001b[0m \u001b[32m━━━━━━━━━━━━━━━━━━━━\u001b[0m\u001b[37m\u001b[0m \u001b[1m1s\u001b[0m 2ms/step\n",
            "Probability distribution for a multiclass classification \n",
            "\n",
            "[9.2320157e-08 1.4723729e-08 9.2772489e-06 2.1153852e-05 3.4904098e-12\n",
            " 2.2982233e-08 2.5337126e-12 9.9996799e-01 6.2650699e-08 1.3753494e-06]\n",
            "\u001b[1m313/313\u001b[0m \u001b[32m━━━━━━━━━━━━━━━━━━━━\u001b[0m\u001b[37m\u001b[0m \u001b[1m1s\u001b[0m 2ms/step - accuracy: 0.9777 - loss: 0.0728\n",
            "test_acc: 0.9804999828338623\n",
            "test_loss: 0.06153218448162079\n"
          ]
        },
        {
          "output_type": "display_data",
          "data": {
            "text/plain": [
              "<Figure size 640x480 with 1 Axes>"
            ],
            "image/png": "[encoded data removed]"
          },
          "metadata": {}
        }
      ]
    },
    {
      "cell_type": "code",
      "source": [
        "5\n",
        "import numpy as np\n",
        "def naïve_add(x,y):\n",
        " assert len(x.shape)==2\n",
        " assert x.shape==y.shape\n",
        " for i in range(x.shape[0]):\n",
        "  for j in range(x.shape[1]):\n",
        "   x[i,j]+=y[i,j]\n",
        " return x\n",
        "x=np.array([[1,2],[3,4]])\n",
        "y=np.array([[3,4],[5,6]])\n",
        "z=naïve_add(x,y)\n",
        "print(z)"
      ],
      "metadata": {
        "colab": {
          "base_uri": "https://localhost:8080/"
        },
        "id": "UWHvaDAelLrk",
        "outputId": "f9315a6e-547f-46cb-91cf-bdd41b0d7ba4"
      },
      "execution_count": null,
      "outputs": [
        {
          "output_type": "stream",
          "name": "stdout",
          "text": [
            "[[ 4  6]\n",
            " [ 8 10]]\n"
          ]
        }
      ]
    },
    {
      "cell_type": "code",
      "source": [
        "6\n",
        "def naive_vector_dot(x,y):\n",
        " assert len(x.shape)==1\n",
        " assert len(y.shape)==1\n",
        " assert x.shape[0]==y.shape[0]\n",
        " z=0.\n",
        " for i in range(x.shape[0]):\n",
        "  z+=x[i]*y[i]\n",
        " return z\n",
        "x= np.array([1,2,3,4])\n",
        "y= np.array([10,20,30,40])\n",
        "result= naive_vector_dot( x , y)\n",
        "print(result)"
      ],
      "metadata": {
        "colab": {
          "base_uri": "https://localhost:8080/"
        },
        "id": "iOTNbWPwllB-",
        "outputId": "8c89f649-298e-4fe0-eb6c-31fa2366f128"
      },
      "execution_count": null,
      "outputs": [
        {
          "output_type": "stream",
          "name": "stdout",
          "text": [
            "300.0\n"
          ]
        }
      ]
    },
    {
      "cell_type": "code",
      "source": [
        "7\n",
        "#‘’’Concatenate tensors in axis running vertically downwards across rows is axis 0.’’’\n",
        "import numpy as np\n",
        "x=np.array([[1,2,3,4],[5,6,7,8]])\n",
        "y=np.array([[0,5,6,3],[1,4,2,9]])\n",
        "np.concatenate([x,y],axis=0)\n",
        "#‘’’ Concatenate tensors in axis running horizontally across columns is axis 1.’’’\n",
        "import numpy as np\n",
        "x=np.array([[1,2,3,4],[5,6,7,8]])\n",
        "y=np.array([[0,5,6,3],[1,4,2,9]])\n",
        "np.concatenate([x,y],axis=1)\n"
      ],
      "metadata": {
        "colab": {
          "base_uri": "https://localhost:8080/"
        },
        "id": "UDqnhP7Zlzet",
        "outputId": "77e4e917-4676-4573-cd5b-474132270bb6"
      },
      "execution_count": null,
      "outputs": [
        {
          "output_type": "execute_result",
          "data": {
            "text/plain": [
              "array([[1, 2, 3, 4, 0, 5, 6, 3],\n",
              "       [5, 6, 7, 8, 1, 4, 2, 9]])"
            ]
          },
          "metadata": {},
          "execution_count": 9
        }
      ]
    },
    {
      "cell_type": "code",
      "source": [
        "8\n",
        "import numpy as np\n",
        "def relu_imp(x):\n",
        " assert len (x.shape)==2\n",
        " for i in range(x.shape[0]):\n",
        "   for j in range(x.shape[1]):\n",
        "     x[i,j]=max(x[i,j],0)\n",
        " return x\n",
        "x=np.array([[1,2],[3,4]])\n",
        "relu_imp(x)"
      ],
      "metadata": {
        "colab": {
          "base_uri": "https://localhost:8080/"
        },
        "id": "a9gVyIMDl-dW",
        "outputId": "9bad33a0-67cb-483b-ed05-122131ff89dd"
      },
      "execution_count": null,
      "outputs": [
        {
          "output_type": "execute_result",
          "data": {
            "text/plain": [
              "array([[1, 2],\n",
              "       [3, 4]])"
            ]
          },
          "metadata": {},
          "execution_count": 11
        }
      ]
    },
    {
      "cell_type": "code",
      "source": [
        "<html>\n",
        "<body>\n",
        "<formation=\"http://localhost:5000/login\"method=\"post\">\n",
        "<p>niha:</p>\n",
        "<p><inputtype=\"text\"name=\"nm\"/></p>\n",
        "</form>\n",
        "</body>\n",
        "</html>\n"
      ],
      "metadata": {
        "colab": {
          "base_uri": "https://localhost:8080/",
          "height": 106
        },
        "id": "98jmVXZ0pmxB",
        "outputId": "649fcbab-f7a3-4623-8549-a5c94da2a716"
      },
      "execution_count": null,
      "outputs": [
        {
          "output_type": "error",
          "ename": "SyntaxError",
          "evalue": "invalid syntax (<ipython-input-12-9910c462615f>, line 1)",
          "traceback": [
            "\u001b[0;36m  File \u001b[0;32m\"<ipython-input-12-9910c462615f>\"\u001b[0;36m, line \u001b[0;32m1\u001b[0m\n\u001b[0;31m    <html>\u001b[0m\n\u001b[0m    ^\u001b[0m\n\u001b[0;31mSyntaxError\u001b[0m\u001b[0;31m:\u001b[0m invalid syntax\n"
          ]
        }
      ]
    },
    {
      "cell_type": "code",
      "source": [
        "from flask import Flask, redirect,url_for, request\n",
        "app=Flas(__name__)\n",
        "@app.route('/success/<nam>')\n",
        "def success(name):\n",
        "    return 'welcome%s'%name\n",
        "@app.route('/login',methods=['POST','GET'])\n",
        "def login():\n",
        "    if request.method=='POST':\n",
        "        user=request.form['nm']\n",
        "        return redirect(url_for ('success',name=user))\n",
        "    else:\n",
        "        user=request.args.get('nm')\n",
        "        return redirect(url_for('success',name=user))\n",
        "if __name__=='__main__':\n",
        "    app.run(debug=True)\n",
        "\n"
      ],
      "metadata": {
        "id": "llDhuy75VqVr",
        "outputId": "f62bc89b-60e7-4abe-9b88-db0e3668441f",
        "colab": {
          "base_uri": "https://localhost:8080/",
          "height": 211
        }
      },
      "execution_count": null,
      "outputs": [
        {
          "output_type": "error",
          "ename": "NameError",
          "evalue": "name 'Flas' is not defined",
          "traceback": [
            "\u001b[0;31m---------------------------------------------------------------------------\u001b[0m",
            "\u001b[0;31mNameError\u001b[0m                                 Traceback (most recent call last)",
            "\u001b[0;32m<ipython-input-13-1bb6b8896748>\u001b[0m in \u001b[0;36m<cell line: 0>\u001b[0;34m()\u001b[0m\n\u001b[1;32m      1\u001b[0m \u001b[0;32mfrom\u001b[0m \u001b[0mflask\u001b[0m \u001b[0;32mimport\u001b[0m \u001b[0mFlask\u001b[0m\u001b[0;34m,\u001b[0m \u001b[0mredirect\u001b[0m\u001b[0;34m,\u001b[0m\u001b[0murl_for\u001b[0m\u001b[0;34m,\u001b[0m \u001b[0mrequest\u001b[0m\u001b[0;34m\u001b[0m\u001b[0;34m\u001b[0m\u001b[0m\n\u001b[0;32m----> 2\u001b[0;31m \u001b[0mapp\u001b[0m\u001b[0;34m=\u001b[0m\u001b[0mFlas\u001b[0m\u001b[0;34m(\u001b[0m\u001b[0m__name__\u001b[0m\u001b[0;34m)\u001b[0m\u001b[0;34m\u001b[0m\u001b[0;34m\u001b[0m\u001b[0m\n\u001b[0m\u001b[1;32m      3\u001b[0m \u001b[0;34m@\u001b[0m\u001b[0mapp\u001b[0m\u001b[0;34m.\u001b[0m\u001b[0mroute\u001b[0m\u001b[0;34m(\u001b[0m\u001b[0;34m'/success/<nam>'\u001b[0m\u001b[0;34m)\u001b[0m\u001b[0;34m\u001b[0m\u001b[0;34m\u001b[0m\u001b[0m\n\u001b[1;32m      4\u001b[0m \u001b[0;32mdef\u001b[0m \u001b[0msuccess\u001b[0m\u001b[0;34m(\u001b[0m\u001b[0mname\u001b[0m\u001b[0;34m)\u001b[0m\u001b[0;34m:\u001b[0m\u001b[0;34m\u001b[0m\u001b[0;34m\u001b[0m\u001b[0m\n\u001b[1;32m      5\u001b[0m     \u001b[0;32mreturn\u001b[0m \u001b[0;34m'welcome%s'\u001b[0m\u001b[0;34m%\u001b[0m\u001b[0mname\u001b[0m\u001b[0;34m\u001b[0m\u001b[0;34m\u001b[0m\u001b[0m\n",
            "\u001b[0;31mNameError\u001b[0m: name 'Flas' is not defined"
          ]
        }
      ]
    }
  ]
}